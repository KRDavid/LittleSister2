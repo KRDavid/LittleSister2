{
 "cells": [
  {
   "cell_type": "markdown",
   "metadata": {},
   "source": [
    "# Intro / preparing data"
   ]
  },
  {
   "cell_type": "markdown",
   "metadata": {},
   "source": [
    "Different datasets based on CIFAR 10 will be tested on a basic model using data augmentation. \n",
    "We will add layers of data augmentation one by one and see the evolution.\n",
    "\n",
    "Visualization of metrics is possible at the end of this notebook using TensorBoard\n",
    "\n",
    "If you already ran the notebook : you can directly skip to the Data viz part\n",
    "\n",
    "If needed, you can find CIFAR 10 images at :"
   ]
  },
  {
   "cell_type": "code",
   "execution_count": 1,
   "metadata": {},
   "outputs": [],
   "source": [
    "%load_ext tensorboard"
   ]
  },
  {
   "cell_type": "code",
   "execution_count": 2,
   "metadata": {
    "scrolled": true
   },
   "outputs": [],
   "source": [
    "###### Local imports\n",
    "from src.model_utilities import train_model, create_model, retrieve_data, prediction\n",
    "\n",
    "###### Various imports\n",
    "import os\n",
    "import PIL\n",
    "import matplotlib.pyplot as plt\n",
    "import numpy as np\n",
    "\n",
    "###### Tensorflow imports\n",
    "import tensorflow as tf\n",
    "from tensorflow.keras.utils import to_categorical\n",
    "from tensorflow.keras.models import Sequential, Model, load_model\n",
    "from tensorflow.keras.layers import Conv2D, MaxPooling2D, AveragePooling2D, Activation, Dropout, Flatten, Dense, Dropout\n",
    "from tensorflow.keras.preprocessing.image import ImageDataGenerator\n",
    "from tensorflow.keras.preprocessing import image\n",
    "\n",
    "###### Sklearn imports\n",
    "from sklearn.model_selection import train_test_split\n",
    "\n",
    "\n",
    "###### Setting global variables\n",
    "TRAIN_BASE_DIRECTORY = \"./data/train\"\n",
    "VAL_BASE_DIRECTORY = \"./data/test\"\n",
    "IMAGE_SIZE = 32\n",
    "BATCH_SIZE = 64"
   ]
  },
  {
   "cell_type": "markdown",
   "metadata": {},
   "source": [
    "# Initializing model\n",
    "\n",
    "We set up a basic model architecture which will be used for all trainings"
   ]
  },
  {
   "cell_type": "code",
   "execution_count": 3,
   "metadata": {},
   "outputs": [
    {
     "name": "stdout",
     "output_type": "stream",
     "text": [
      "Model: \"sequential\"\n",
      "_________________________________________________________________\n",
      "Layer (type)                 Output Shape              Param #   \n",
      "=================================================================\n",
      "conv2d (Conv2D)              (None, 32, 32, 32)        896       \n",
      "_________________________________________________________________\n",
      "max_pooling2d (MaxPooling2D) (None, 16, 16, 32)        0         \n",
      "_________________________________________________________________\n",
      "dense (Dense)                (None, 16, 16, 64)        2112      \n",
      "_________________________________________________________________\n",
      "conv2d_1 (Conv2D)            (None, 16, 16, 64)        36928     \n",
      "_________________________________________________________________\n",
      "max_pooling2d_1 (MaxPooling2 (None, 8, 8, 64)          0         \n",
      "_________________________________________________________________\n",
      "flatten (Flatten)            (None, 4096)              0         \n",
      "_________________________________________________________________\n",
      "dense_1 (Dense)              (None, 10)                40970     \n",
      "=================================================================\n",
      "Total params: 80,906\n",
      "Trainable params: 80,906\n",
      "Non-trainable params: 0\n",
      "_________________________________________________________________\n"
     ]
    }
   ],
   "source": [
    "model = Sequential()\n",
    "\n",
    "model.add(Conv2D(32, kernel_size=3, activation='relu', padding='same', input_shape=(32,32,3))) \n",
    "model.add(MaxPooling2D(pool_size=(2, 2)))\n",
    "model.add(Dense(64, activation='relu'))\n",
    "# model.add(Dropout(0.2))\n",
    "\n",
    "model.add(Conv2D(64, kernel_size=3, padding='same', activation='relu'))\n",
    "model.add(MaxPooling2D(pool_size=(2, 2)))\n",
    "# model.add(Dropout(0.2))\n",
    "\n",
    "#Fin obligatoire\n",
    "model.add(Flatten())\n",
    "model.add(Dense(10, activation='softmax'))\n",
    "\n",
    "model.summary()"
   ]
  },
  {
   "cell_type": "markdown",
   "metadata": {},
   "source": [
    "# First dataset : vanilla\n",
    "\n",
    "We read the CIFAR 10 dataset and train the model as is"
   ]
  },
  {
   "cell_type": "code",
   "execution_count": 4,
   "metadata": {},
   "outputs": [],
   "source": [
    "####### Setting the data generator\n",
    "datagen = ImageDataGenerator(validation_split=0.2)"
   ]
  },
  {
   "cell_type": "code",
   "execution_count": 5,
   "metadata": {},
   "outputs": [
    {
     "name": "stdout",
     "output_type": "stream",
     "text": [
      "Found 40000 images belonging to 10 classes.\n",
      "Found 10000 images belonging to 10 classes.\n"
     ]
    }
   ],
   "source": [
    "####### Retrieving data using the ImageDataGenerator\n",
    "train_generator ,val_generator = retrieve_data(datagen,\n",
    "                                               TRAIN_BASE_DIRECTORY,\n",
    "                                               BATCH_SIZE)"
   ]
  },
  {
   "cell_type": "code",
   "execution_count": 6,
   "metadata": {
    "scrolled": true
   },
   "outputs": [
    {
     "name": "stdout",
     "output_type": "stream",
     "text": [
      "WARNING:tensorflow:From d:\\Python\\LittleSister2\\LittleSister2\\src\\model_utilities.py:15: Model.fit_generator (from tensorflow.python.keras.engine.training) is deprecated and will be removed in a future version.\n",
      "Instructions for updating:\n",
      "Please use Model.fit, which supports generators.\n",
      "Epoch 1/20\n",
      "  1/625 [..............................] - ETA: 0s - loss: 25.5683 - accuracy: 0.1094WARNING:tensorflow:From C:\\Users\\drakk\\Anaconda3\\envs\\tensor\\lib\\site-packages\\tensorflow\\python\\ops\\summary_ops_v2.py:1277: stop (from tensorflow.python.eager.profiler) is deprecated and will be removed after 2020-07-01.\n",
      "Instructions for updating:\n",
      "use `tf.profiler.experimental.stop` instead.\n",
      "  2/625 [..............................] - ETA: 2:07 - loss: 31.7040 - accuracy: 0.1328WARNING:tensorflow:Callbacks method `on_train_batch_end` is slow compared to the batch time (batch time: 0.0449s vs `on_train_batch_end` time: 0.3638s). Check your callbacks.\n",
      "625/625 [==============================] - 745s 1s/step - loss: 2.2140 - accuracy: 0.3618 - val_loss: 1.4885 - val_accuracy: 0.4752\n",
      "Epoch 2/20\n",
      "625/625 [==============================] - 34s 55ms/step - loss: 1.4121 - accuracy: 0.4997 - val_loss: 1.3235 - val_accuracy: 0.5263\n",
      "Epoch 3/20\n",
      "625/625 [==============================] - 35s 56ms/step - loss: 1.2793 - accuracy: 0.5535 - val_loss: 1.2742 - val_accuracy: 0.5482\n",
      "Epoch 4/20\n",
      "625/625 [==============================] - 36s 57ms/step - loss: 1.1947 - accuracy: 0.5811 - val_loss: 1.2872 - val_accuracy: 0.5565\n",
      "Epoch 5/20\n",
      "625/625 [==============================] - 36s 57ms/step - loss: 1.1175 - accuracy: 0.6111 - val_loss: 1.1991 - val_accuracy: 0.5835\n",
      "Epoch 6/20\n",
      "625/625 [==============================] - 36s 58ms/step - loss: 1.0509 - accuracy: 0.6336 - val_loss: 1.1973 - val_accuracy: 0.5859\n",
      "Epoch 7/20\n",
      "625/625 [==============================] - 37s 59ms/step - loss: 0.9955 - accuracy: 0.6510 - val_loss: 1.1853 - val_accuracy: 0.5911\n",
      "Epoch 8/20\n",
      "625/625 [==============================] - 36s 58ms/step - loss: 0.9404 - accuracy: 0.6690 - val_loss: 1.1866 - val_accuracy: 0.6053\n",
      "Epoch 9/20\n",
      "625/625 [==============================] - 36s 58ms/step - loss: 0.8805 - accuracy: 0.6937 - val_loss: 1.2005 - val_accuracy: 0.6104\n",
      "Epoch 10/20\n",
      "625/625 [==============================] - 36s 58ms/step - loss: 0.8307 - accuracy: 0.7094 - val_loss: 1.1941 - val_accuracy: 0.6107\n",
      "Epoch 11/20\n",
      "625/625 [==============================] - 36s 58ms/step - loss: 0.7868 - accuracy: 0.7240 - val_loss: 1.2378 - val_accuracy: 0.6036\n",
      "Epoch 12/20\n",
      "625/625 [==============================] - 36s 58ms/step - loss: 0.7313 - accuracy: 0.7429 - val_loss: 1.3353 - val_accuracy: 0.5938\n",
      "Epoch 13/20\n",
      "625/625 [==============================] - 36s 58ms/step - loss: 0.6757 - accuracy: 0.7621 - val_loss: 1.2741 - val_accuracy: 0.6084\n",
      "Epoch 14/20\n",
      "625/625 [==============================] - 36s 58ms/step - loss: 0.6434 - accuracy: 0.7705 - val_loss: 1.3622 - val_accuracy: 0.5963\n",
      "Epoch 15/20\n",
      "625/625 [==============================] - 36s 58ms/step - loss: 0.6021 - accuracy: 0.7853 - val_loss: 1.4492 - val_accuracy: 0.5914\n",
      "Epoch 16/20\n",
      "625/625 [==============================] - 36s 58ms/step - loss: 0.5761 - accuracy: 0.7965 - val_loss: 1.4972 - val_accuracy: 0.6075\n",
      "Epoch 17/20\n",
      "625/625 [==============================] - 36s 58ms/step - loss: 0.5416 - accuracy: 0.8102 - val_loss: 1.6685 - val_accuracy: 0.5930\n",
      "Epoch 18/20\n",
      "625/625 [==============================] - 36s 57ms/step - loss: 0.5048 - accuracy: 0.8216 - val_loss: 1.6723 - val_accuracy: 0.6015\n",
      "Epoch 19/20\n",
      "625/625 [==============================] - 38s 61ms/step - loss: 0.4751 - accuracy: 0.8314 - val_loss: 1.7030 - val_accuracy: 0.5983\n",
      "Epoch 20/20\n",
      "625/625 [==============================] - 38s 61ms/step - loss: 0.4585 - accuracy: 0.8368 - val_loss: 1.7631 - val_accuracy: 0.6046\n",
      "WARNING:tensorflow:From C:\\Users\\drakk\\Anaconda3\\envs\\tensor\\lib\\site-packages\\tensorflow\\python\\training\\tracking\\tracking.py:111: Model.state_updates (from tensorflow.python.keras.engine.training) is deprecated and will be removed in a future version.\n",
      "Instructions for updating:\n",
      "This property should not be used in TensorFlow 2.0, as updates are applied automatically.\n",
      "WARNING:tensorflow:From C:\\Users\\drakk\\Anaconda3\\envs\\tensor\\lib\\site-packages\\tensorflow\\python\\training\\tracking\\tracking.py:111: Layer.updates (from tensorflow.python.keras.engine.base_layer) is deprecated and will be removed in a future version.\n",
      "Instructions for updating:\n",
      "This property should not be used in TensorFlow 2.0, as updates are applied automatically.\n",
      "INFO:tensorflow:Assets written to: models/Base_Model\\assets\n"
     ]
    }
   ],
   "source": [
    "train_model(model, train_generator, val_generator, name=\"Base_Model\", n_epochs=20)"
   ]
  },
  {
   "cell_type": "markdown",
   "metadata": {},
   "source": [
    "# Adding random rotation on image\n",
    "\n",
    "We add a random tilt between 0 and 20 degrees"
   ]
  },
  {
   "cell_type": "code",
   "execution_count": 7,
   "metadata": {},
   "outputs": [],
   "source": [
    "####### Setting the data generator\n",
    "datagen20 = ImageDataGenerator(validation_split=0.2,\n",
    "                               rotation_range=20)"
   ]
  },
  {
   "cell_type": "code",
   "execution_count": 8,
   "metadata": {},
   "outputs": [
    {
     "name": "stdout",
     "output_type": "stream",
     "text": [
      "Found 40000 images belonging to 10 classes.\n",
      "Found 10000 images belonging to 10 classes.\n"
     ]
    }
   ],
   "source": [
    "####### Retrieving data using the ImageDataGenerator\n",
    "train_generator20 ,val_generator20 = retrieve_data(datagen20,\n",
    "                                               TRAIN_BASE_DIRECTORY,\n",
    "                                               BATCH_SIZE)"
   ]
  },
  {
   "cell_type": "code",
   "execution_count": 9,
   "metadata": {
    "scrolled": true
   },
   "outputs": [
    {
     "name": "stdout",
     "output_type": "stream",
     "text": [
      "Model: \"sequential_1\"\n",
      "_________________________________________________________________\n",
      "Layer (type)                 Output Shape              Param #   \n",
      "=================================================================\n",
      "conv2d_2 (Conv2D)            (None, 32, 32, 32)        896       \n",
      "_________________________________________________________________\n",
      "max_pooling2d_2 (MaxPooling2 (None, 16, 16, 32)        0         \n",
      "_________________________________________________________________\n",
      "dense_2 (Dense)              (None, 16, 16, 64)        2112      \n",
      "_________________________________________________________________\n",
      "conv2d_3 (Conv2D)            (None, 16, 16, 64)        36928     \n",
      "_________________________________________________________________\n",
      "max_pooling2d_3 (MaxPooling2 (None, 8, 8, 64)          0         \n",
      "_________________________________________________________________\n",
      "flatten_1 (Flatten)          (None, 4096)              0         \n",
      "_________________________________________________________________\n",
      "dense_3 (Dense)              (None, 10)                40970     \n",
      "=================================================================\n",
      "Total params: 80,906\n",
      "Trainable params: 80,906\n",
      "Non-trainable params: 0\n",
      "_________________________________________________________________\n",
      "Epoch 1/20\n",
      "  2/625 [..............................] - ETA: 8:06 - loss: 28.6297 - accuracy: 0.0938WARNING:tensorflow:Callbacks method `on_train_batch_end` is slow compared to the batch time (batch time: 0.0679s vs `on_train_batch_end` time: 1.4949s). Check your callbacks.\n",
      "625/625 [==============================] - 54s 86ms/step - loss: 2.3089 - accuracy: 0.3701 - val_loss: 1.5187 - val_accuracy: 0.4601\n",
      "Epoch 2/20\n",
      "625/625 [==============================] - 54s 87ms/step - loss: 1.4726 - accuracy: 0.4738 - val_loss: 1.4363 - val_accuracy: 0.4789\n",
      "Epoch 3/20\n",
      "625/625 [==============================] - 52s 83ms/step - loss: 1.3914 - accuracy: 0.5060 - val_loss: 1.3780 - val_accuracy: 0.5070\n",
      "Epoch 4/20\n",
      "625/625 [==============================] - 52s 83ms/step - loss: 1.3361 - accuracy: 0.5312 - val_loss: 1.2727 - val_accuracy: 0.5496\n",
      "Epoch 5/20\n",
      "625/625 [==============================] - 52s 83ms/step - loss: 1.2886 - accuracy: 0.5456 - val_loss: 1.2434 - val_accuracy: 0.5625\n",
      "Epoch 6/20\n",
      "625/625 [==============================] - 52s 83ms/step - loss: 1.2319 - accuracy: 0.5661 - val_loss: 1.2340 - val_accuracy: 0.5599\n",
      "Epoch 7/20\n",
      "625/625 [==============================] - 53s 85ms/step - loss: 1.1848 - accuracy: 0.5872 - val_loss: 1.1796 - val_accuracy: 0.5843\n",
      "Epoch 8/20\n",
      "625/625 [==============================] - 55s 88ms/step - loss: 1.1385 - accuracy: 0.6004 - val_loss: 1.1282 - val_accuracy: 0.6079\n",
      "Epoch 9/20\n",
      "625/625 [==============================] - 55s 87ms/step - loss: 1.0987 - accuracy: 0.6156 - val_loss: 1.1499 - val_accuracy: 0.6014\n",
      "Epoch 10/20\n",
      "625/625 [==============================] - 54s 86ms/step - loss: 1.0707 - accuracy: 0.6290 - val_loss: 1.1670 - val_accuracy: 0.5978\n",
      "Epoch 11/20\n",
      "625/625 [==============================] - 59s 95ms/step - loss: 1.0532 - accuracy: 0.6339 - val_loss: 1.1355 - val_accuracy: 0.6072\n",
      "Epoch 12/20\n",
      "625/625 [==============================] - 53s 86ms/step - loss: 1.0293 - accuracy: 0.6426 - val_loss: 1.0948 - val_accuracy: 0.6194\n",
      "Epoch 13/20\n",
      "625/625 [==============================] - 55s 88ms/step - loss: 1.0077 - accuracy: 0.6483 - val_loss: 1.0536 - val_accuracy: 0.6363\n",
      "Epoch 14/20\n",
      "625/625 [==============================] - 55s 87ms/step - loss: 0.9947 - accuracy: 0.6539 - val_loss: 1.0455 - val_accuracy: 0.6319\n",
      "Epoch 15/20\n",
      "625/625 [==============================] - 59s 95ms/step - loss: 0.9757 - accuracy: 0.6612 - val_loss: 1.1119 - val_accuracy: 0.6256\n",
      "Epoch 16/20\n",
      "625/625 [==============================] - 56s 90ms/step - loss: 0.9521 - accuracy: 0.6671 - val_loss: 1.0288 - val_accuracy: 0.6377\n",
      "Epoch 17/20\n",
      "625/625 [==============================] - 56s 90ms/step - loss: 0.9318 - accuracy: 0.6762 - val_loss: 1.0972 - val_accuracy: 0.6242\n",
      "Epoch 18/20\n",
      "625/625 [==============================] - 56s 90ms/step - loss: 0.9281 - accuracy: 0.6764 - val_loss: 1.0290 - val_accuracy: 0.6433\n",
      "Epoch 19/20\n",
      "625/625 [==============================] - 60s 97ms/step - loss: 0.9093 - accuracy: 0.6832 - val_loss: 1.0292 - val_accuracy: 0.6557\n",
      "Epoch 20/20\n",
      "625/625 [==============================] - 60s 96ms/step - loss: 0.8993 - accuracy: 0.6884 - val_loss: 1.0111 - val_accuracy: 0.6554\n",
      "INFO:tensorflow:Assets written to: models/20percent_Rotation_Model\\assets\n"
     ]
    }
   ],
   "source": [
    "model20 = create_model()\n",
    "\n",
    "train_model(model20, train_generator20, val_generator20, name=\"20percent_Rotation_Model\", n_epochs=20)"
   ]
  },
  {
   "cell_type": "markdown",
   "metadata": {},
   "source": [
    "# Adding random horizontal flip\n",
    "\n",
    "Keeping the 20 degrees tilt we add a random horizontal flip"
   ]
  },
  {
   "cell_type": "code",
   "execution_count": 10,
   "metadata": {},
   "outputs": [],
   "source": [
    "####### Setting the data generator\n",
    "datagen20hflip = ImageDataGenerator(validation_split=0.2,\n",
    "                                    rotation_range=20,\n",
    "                                    horizontal_flip=True)"
   ]
  },
  {
   "cell_type": "code",
   "execution_count": 11,
   "metadata": {
    "scrolled": true
   },
   "outputs": [
    {
     "name": "stdout",
     "output_type": "stream",
     "text": [
      "Found 40000 images belonging to 10 classes.\n",
      "Found 10000 images belonging to 10 classes.\n"
     ]
    }
   ],
   "source": [
    "####### Retrieving data using the ImageDataGenerator\n",
    "train_generator20hflip ,val_generator20hflip = retrieve_data(datagen20hflip,\n",
    "                                               TRAIN_BASE_DIRECTORY,\n",
    "                                               BATCH_SIZE)"
   ]
  },
  {
   "cell_type": "code",
   "execution_count": 12,
   "metadata": {
    "scrolled": true
   },
   "outputs": [
    {
     "name": "stdout",
     "output_type": "stream",
     "text": [
      "Model: \"sequential_2\"\n",
      "_________________________________________________________________\n",
      "Layer (type)                 Output Shape              Param #   \n",
      "=================================================================\n",
      "conv2d_4 (Conv2D)            (None, 32, 32, 32)        896       \n",
      "_________________________________________________________________\n",
      "max_pooling2d_4 (MaxPooling2 (None, 16, 16, 32)        0         \n",
      "_________________________________________________________________\n",
      "dense_4 (Dense)              (None, 16, 16, 64)        2112      \n",
      "_________________________________________________________________\n",
      "conv2d_5 (Conv2D)            (None, 16, 16, 64)        36928     \n",
      "_________________________________________________________________\n",
      "max_pooling2d_5 (MaxPooling2 (None, 8, 8, 64)          0         \n",
      "_________________________________________________________________\n",
      "flatten_2 (Flatten)          (None, 4096)              0         \n",
      "_________________________________________________________________\n",
      "dense_5 (Dense)              (None, 10)                40970     \n",
      "=================================================================\n",
      "Total params: 80,906\n",
      "Trainable params: 80,906\n",
      "Non-trainable params: 0\n",
      "_________________________________________________________________\n",
      "Epoch 1/20\n",
      "  2/625 [..............................] - ETA: 4:40 - loss: 48.3787 - accuracy: 0.0781WARNING:tensorflow:Callbacks method `on_train_batch_end` is slow compared to the batch time (batch time: 0.0768s vs `on_train_batch_end` time: 0.8241s). Check your callbacks.\n",
      "625/625 [==============================] - 55s 88ms/step - loss: 2.4054 - accuracy: 0.3703 - val_loss: 1.4920 - val_accuracy: 0.4670\n",
      "Epoch 2/20\n",
      "625/625 [==============================] - 53s 86ms/step - loss: 1.4766 - accuracy: 0.4739 - val_loss: 1.3976 - val_accuracy: 0.4926\n",
      "Epoch 3/20\n",
      "625/625 [==============================] - 58s 92ms/step - loss: 1.3703 - accuracy: 0.5136 - val_loss: 1.3310 - val_accuracy: 0.5249\n",
      "Epoch 4/20\n",
      "625/625 [==============================] - 55s 88ms/step - loss: 1.2961 - accuracy: 0.5437 - val_loss: 1.3367 - val_accuracy: 0.5241\n",
      "Epoch 5/20\n",
      "625/625 [==============================] - 53s 84ms/step - loss: 1.2612 - accuracy: 0.5539 - val_loss: 1.2146 - val_accuracy: 0.5750\n",
      "Epoch 6/20\n",
      "625/625 [==============================] - 52s 84ms/step - loss: 1.2101 - accuracy: 0.5745 - val_loss: 1.2237 - val_accuracy: 0.5664\n",
      "Epoch 7/20\n",
      "625/625 [==============================] - 52s 84ms/step - loss: 1.1784 - accuracy: 0.5845 - val_loss: 1.1646 - val_accuracy: 0.5921\n",
      "Epoch 8/20\n",
      "625/625 [==============================] - 52s 83ms/step - loss: 1.1343 - accuracy: 0.6036 - val_loss: 1.1197 - val_accuracy: 0.6103\n",
      "Epoch 9/20\n",
      "625/625 [==============================] - 54s 87ms/step - loss: 1.1150 - accuracy: 0.6107 - val_loss: 1.1220 - val_accuracy: 0.6061\n",
      "Epoch 10/20\n",
      "625/625 [==============================] - 54s 87ms/step - loss: 1.0893 - accuracy: 0.6201 - val_loss: 1.0872 - val_accuracy: 0.6201\n",
      "Epoch 11/20\n",
      "625/625 [==============================] - 52s 84ms/step - loss: 1.0760 - accuracy: 0.6250 - val_loss: 1.1184 - val_accuracy: 0.6069\n",
      "Epoch 12/20\n",
      "625/625 [==============================] - 55s 88ms/step - loss: 1.0607 - accuracy: 0.6291 - val_loss: 1.0827 - val_accuracy: 0.6150\n",
      "Epoch 13/20\n",
      "625/625 [==============================] - 58s 92ms/step - loss: 1.0317 - accuracy: 0.6408 - val_loss: 1.0884 - val_accuracy: 0.6164\n",
      "Epoch 14/20\n",
      "625/625 [==============================] - 56s 89ms/step - loss: 1.0170 - accuracy: 0.6460 - val_loss: 1.0552 - val_accuracy: 0.6306\n",
      "Epoch 15/20\n",
      "625/625 [==============================] - 56s 90ms/step - loss: 1.0080 - accuracy: 0.6503 - val_loss: 1.0449 - val_accuracy: 0.6373\n",
      "Epoch 16/20\n",
      "625/625 [==============================] - 54s 87ms/step - loss: 0.9833 - accuracy: 0.6575 - val_loss: 1.0277 - val_accuracy: 0.6440\n",
      "Epoch 17/20\n",
      "625/625 [==============================] - 55s 87ms/step - loss: 0.9671 - accuracy: 0.6637 - val_loss: 1.0454 - val_accuracy: 0.6348\n",
      "Epoch 18/20\n",
      "625/625 [==============================] - 54s 86ms/step - loss: 0.9561 - accuracy: 0.6706 - val_loss: 1.0022 - val_accuracy: 0.6569\n",
      "Epoch 19/20\n",
      "625/625 [==============================] - 56s 90ms/step - loss: 0.9439 - accuracy: 0.6740 - val_loss: 1.0212 - val_accuracy: 0.6495\n",
      "Epoch 20/20\n",
      "625/625 [==============================] - 59s 94ms/step - loss: 0.9335 - accuracy: 0.6754 - val_loss: 1.0058 - val_accuracy: 0.6519\n",
      "INFO:tensorflow:Assets written to: models/20percent_Rotation+Horizontal_Flip_Model\\assets\n"
     ]
    }
   ],
   "source": [
    "model20hflip = create_model()\n",
    "\n",
    "train_model(model20hflip, train_generator20hflip, val_generator20hflip, name=\"20percent_Rotation+Horizontal_Flip_Model\", n_epochs=20)"
   ]
  },
  {
   "cell_type": "markdown",
   "metadata": {},
   "source": [
    "# Adding random vertical flip and brightness range\n",
    "\n",
    "Even if the previous model isn't overfitting anymore, we'll try a last data augmentation ton see if we can get a better result"
   ]
  },
  {
   "cell_type": "code",
   "execution_count": 13,
   "metadata": {},
   "outputs": [],
   "source": [
    "####### Setting the data generator\n",
    "datagen20bothflips = ImageDataGenerator(validation_split=0.2,\n",
    "                                    rotation_range=20,\n",
    "                                    horizontal_flip=True,\n",
    "                                    vertical_flip=True,\n",
    "                                    brightness_range=(0.2, 0.8))"
   ]
  },
  {
   "cell_type": "code",
   "execution_count": 14,
   "metadata": {},
   "outputs": [
    {
     "name": "stdout",
     "output_type": "stream",
     "text": [
      "Found 40000 images belonging to 10 classes.\n",
      "Found 10000 images belonging to 10 classes.\n"
     ]
    }
   ],
   "source": [
    "####### Retrieving data using the ImageDataGenerator\n",
    "train_generator20bothflips ,val_generator20bothflips = retrieve_data(datagen20bothflips,\n",
    "                                               TRAIN_BASE_DIRECTORY,\n",
    "                                               BATCH_SIZE)"
   ]
  },
  {
   "cell_type": "code",
   "execution_count": 15,
   "metadata": {
    "scrolled": true
   },
   "outputs": [
    {
     "name": "stdout",
     "output_type": "stream",
     "text": [
      "Model: \"sequential_3\"\n",
      "_________________________________________________________________\n",
      "Layer (type)                 Output Shape              Param #   \n",
      "=================================================================\n",
      "conv2d_6 (Conv2D)            (None, 32, 32, 32)        896       \n",
      "_________________________________________________________________\n",
      "max_pooling2d_6 (MaxPooling2 (None, 16, 16, 32)        0         \n",
      "_________________________________________________________________\n",
      "dense_6 (Dense)              (None, 16, 16, 64)        2112      \n",
      "_________________________________________________________________\n",
      "conv2d_7 (Conv2D)            (None, 16, 16, 64)        36928     \n",
      "_________________________________________________________________\n",
      "max_pooling2d_7 (MaxPooling2 (None, 8, 8, 64)          0         \n",
      "_________________________________________________________________\n",
      "flatten_3 (Flatten)          (None, 4096)              0         \n",
      "_________________________________________________________________\n",
      "dense_7 (Dense)              (None, 10)                40970     \n",
      "=================================================================\n",
      "Total params: 80,906\n",
      "Trainable params: 80,906\n",
      "Non-trainable params: 0\n",
      "_________________________________________________________________\n",
      "Epoch 1/20\n",
      "  2/625 [..............................] - ETA: 4:37 - loss: 19.0010 - accuracy: 0.0938WARNING:tensorflow:Callbacks method `on_train_batch_end` is slow compared to the batch time (batch time: 0.0828s vs `on_train_batch_end` time: 0.8062s). Check your callbacks.\n",
      "625/625 [==============================] - 64s 102ms/step - loss: 2.1274 - accuracy: 0.3331 - val_loss: 1.6642 - val_accuracy: 0.4122\n",
      "Epoch 2/20\n",
      "625/625 [==============================] - 63s 101ms/step - loss: 1.6040 - accuracy: 0.4360 - val_loss: 1.5387 - val_accuracy: 0.4524\n",
      "Epoch 3/20\n",
      "625/625 [==============================] - 65s 104ms/step - loss: 1.5179 - accuracy: 0.4648 - val_loss: 1.4670 - val_accuracy: 0.4683\n",
      "Epoch 4/20\n",
      "625/625 [==============================] - 62s 99ms/step - loss: 1.4538 - accuracy: 0.4897 - val_loss: 1.4784 - val_accuracy: 0.4740\n",
      "Epoch 5/20\n",
      "625/625 [==============================] - 64s 103ms/step - loss: 1.4103 - accuracy: 0.5049 - val_loss: 1.3838 - val_accuracy: 0.5134\n",
      "Epoch 6/20\n",
      "625/625 [==============================] - 62s 98ms/step - loss: 1.3690 - accuracy: 0.5179 - val_loss: 1.3362 - val_accuracy: 0.5269\n",
      "Epoch 7/20\n",
      "625/625 [==============================] - 62s 100ms/step - loss: 1.3344 - accuracy: 0.5312 - val_loss: 1.3731 - val_accuracy: 0.5118\n",
      "Epoch 8/20\n",
      "625/625 [==============================] - 61s 98ms/step - loss: 1.2850 - accuracy: 0.5483 - val_loss: 1.2988 - val_accuracy: 0.5478\n",
      "Epoch 9/20\n",
      "625/625 [==============================] - 63s 101ms/step - loss: 1.2641 - accuracy: 0.5549 - val_loss: 1.2713 - val_accuracy: 0.5508\n",
      "Epoch 10/20\n",
      "625/625 [==============================] - 63s 100ms/step - loss: 1.2435 - accuracy: 0.5624 - val_loss: 1.2291 - val_accuracy: 0.5647\n",
      "Epoch 11/20\n",
      "625/625 [==============================] - 62s 100ms/step - loss: 1.2330 - accuracy: 0.5650 - val_loss: 1.2275 - val_accuracy: 0.5661\n",
      "Epoch 12/20\n",
      "625/625 [==============================] - 62s 99ms/step - loss: 1.2190 - accuracy: 0.5713 - val_loss: 1.2518 - val_accuracy: 0.5563\n",
      "Epoch 13/20\n",
      "625/625 [==============================] - 63s 100ms/step - loss: 1.1994 - accuracy: 0.5773 - val_loss: 1.2574 - val_accuracy: 0.5560\n",
      "Epoch 14/20\n",
      "625/625 [==============================] - 60s 96ms/step - loss: 1.2019 - accuracy: 0.5742 - val_loss: 1.2141 - val_accuracy: 0.5784\n",
      "Epoch 15/20\n",
      "625/625 [==============================] - 61s 97ms/step - loss: 1.1835 - accuracy: 0.5846 - val_loss: 1.2167 - val_accuracy: 0.5718\n",
      "Epoch 16/20\n",
      "625/625 [==============================] - 61s 97ms/step - loss: 1.1717 - accuracy: 0.5899 - val_loss: 1.1596 - val_accuracy: 0.5901\n",
      "Epoch 17/20\n",
      "625/625 [==============================] - 60s 97ms/step - loss: 1.1537 - accuracy: 0.5951 - val_loss: 1.1762 - val_accuracy: 0.5857\n",
      "Epoch 18/20\n",
      "625/625 [==============================] - 61s 97ms/step - loss: 1.1512 - accuracy: 0.5964 - val_loss: 1.1512 - val_accuracy: 0.6001\n",
      "Epoch 19/20\n",
      "625/625 [==============================] - 60s 96ms/step - loss: 1.1470 - accuracy: 0.5960 - val_loss: 1.1655 - val_accuracy: 0.5916\n",
      "Epoch 20/20\n",
      "625/625 [==============================] - 59s 95ms/step - loss: 1.1421 - accuracy: 0.5951 - val_loss: 1.1394 - val_accuracy: 0.6048\n",
      "INFO:tensorflow:Assets written to: models/20percent_Rotation+Horizontal_Vertical_Flip_Brightness_Model\\assets\n"
     ]
    }
   ],
   "source": [
    "model20bothflips = create_model()\n",
    "\n",
    "train_model(model20bothflips, train_generator20bothflips, val_generator20bothflips, name=\"20percent_Rotation+Horizontal_Vertical_Flip_Brightness_Model\", n_epochs=20)"
   ]
  },
  {
   "cell_type": "markdown",
   "metadata": {},
   "source": [
    "# Data viz\n",
    "\n",
    "Check and uncheck models to make graphs more readable"
   ]
  },
  {
   "cell_type": "code",
   "execution_count": 17,
   "metadata": {
    "scrolled": false
   },
   "outputs": [
    {
     "data": {
      "text/plain": [
       "Reusing TensorBoard on port 8005 (pid 512), started 0:09:18 ago. (Use '!kill 512' to kill it.)"
      ]
     },
     "metadata": {},
     "output_type": "display_data"
    },
    {
     "data": {
      "text/html": [
       "\n",
       "      <iframe id=\"tensorboard-frame-821a9d645663bb93\" width=\"100%\" height=\"800\" frameborder=\"0\">\n",
       "      </iframe>\n",
       "      <script>\n",
       "        (function() {\n",
       "          const frame = document.getElementById(\"tensorboard-frame-821a9d645663bb93\");\n",
       "          const url = new URL(\"/\", window.location);\n",
       "          const port = 8005;\n",
       "          if (port) {\n",
       "            url.port = port;\n",
       "          }\n",
       "          frame.src = url;\n",
       "        })();\n",
       "      </script>\n",
       "    "
      ],
      "text/plain": [
       "<IPython.core.display.HTML object>"
      ]
     },
     "metadata": {},
     "output_type": "display_data"
    }
   ],
   "source": [
    "%tensorboard --logdir logs --host=localhost --port=8005"
   ]
  },
  {
   "cell_type": "markdown",
   "metadata": {},
   "source": [
    "## Reloading models (optional if you just ran the notebook)"
   ]
  },
  {
   "cell_type": "code",
   "execution_count": 3,
   "metadata": {},
   "outputs": [],
   "source": [
    "model = load_model(\"./models/Base_Model\")\n",
    "plus_tilt = load_model(\"./models/20percent_Rotation_Model\")\n",
    "plus_hflip = load_model(\"./models/20percent_Rotation+Horizontal_Flip_Model\")\n",
    "plus_vhflip_bright = load_model(\"./models/20percent_Rotation+Horizontal_Vertical_Flip_Brightness_Model\")\n",
    "tf.autograph.set_verbosity(0)"
   ]
  },
  {
   "cell_type": "markdown",
   "metadata": {},
   "source": [
    "# Predicting on test images"
   ]
  },
  {
   "cell_type": "code",
   "execution_count": 17,
   "metadata": {},
   "outputs": [
    {
     "name": "stdout",
     "output_type": "stream",
     "text": [
      "Ground truth : truck\n",
      "Prediction of base model : ship. probs=  93.21911334991455\n",
      "Prediction of Augmented model #1 : deer. probs=  46.78786098957062\n",
      "Prediction of Augmented model #2 : cat. probs=  26.77687108516693\n",
      "Prediction of Augmented model #3 : truck. probs=  94.80327367782593\n"
     ]
    },
    {
     "data": {
      "image/png": "[encoded data removed]",
      "text/plain": [
       "<Figure size 432x288 with 1 Axes>"
      ]
     },
     "metadata": {
      "needs_background": "light"
     },
     "output_type": "display_data"
    }
   ],
   "source": [
    "###### Retrieving labels\n",
    "labels_array = os.listdir(VAL_BASE_DIRECTORY)\n",
    "\n",
    "###### Image selection\n",
    "choix = r\"./data/test/truck/0007.jpg\"\n",
    "\n",
    "prediction(choix, VAL_BASE_DIRECTORY, model, plus_tilt, plus_hflip, plus_vhflip_bright)"
   ]
  },
  {
   "cell_type": "code",
   "execution_count": 18,
   "metadata": {},
   "outputs": [
    {
     "name": "stdout",
     "output_type": "stream",
     "text": [
      "Ground truth : automobile\n",
      "Prediction of base model : automobile. probs=  99.9971866607666\n",
      "Prediction of Augmented model #1 : automobile. probs=  98.50426912307739\n",
      "Prediction of Augmented model #2 : automobile. probs=  98.00350666046143\n",
      "Prediction of Augmented model #3 : automobile. probs=  53.45054268836975\n"
     ]
    },
    {
     "data": {
      "image/png": "[encoded data removed]",
      "text/plain": [
       "<Figure size 432x288 with 1 Axes>"
      ]
     },
     "metadata": {
      "needs_background": "light"
     },
     "output_type": "display_data"
    }
   ],
   "source": [
    "###### Image selection\n",
    "choix = r\"./data/test/automobile/0007.jpg\"\n",
    "\n",
    "prediction(choix, VAL_BASE_DIRECTORY, model, plus_tilt, plus_hflip, plus_vhflip_bright)"
   ]
  },
  {
   "cell_type": "code",
   "execution_count": 19,
   "metadata": {},
   "outputs": [
    {
     "name": "stdout",
     "output_type": "stream",
     "text": [
      "Ground truth : horse\n",
      "Prediction of base model : bird. probs=  88.36610913276672\n",
      "Prediction of Augmented model #1 : horse. probs=  99.17023777961731\n",
      "Prediction of Augmented model #2 : horse. probs=  88.2375419139862\n",
      "Prediction of Augmented model #3 : horse. probs=  53.2892644405365\n"
     ]
    },
    {
     "data": {
      "image/png": "[encoded data removed]",
      "text/plain": [
       "<Figure size 432x288 with 1 Axes>"
      ]
     },
     "metadata": {
      "needs_background": "light"
     },
     "output_type": "display_data"
    }
   ],
   "source": [
    "###### Image selection\n",
    "choix = r\"./data/test/horse/0017.jpg\"\n",
    "\n",
    "prediction(choix, VAL_BASE_DIRECTORY, model, plus_tilt, plus_hflip, plus_vhflip_bright)"
   ]
  },
  {
   "cell_type": "code",
   "execution_count": 20,
   "metadata": {},
   "outputs": [
    {
     "name": "stdout",
     "output_type": "stream",
     "text": [
      "Ground truth : bird\n",
      "Prediction of base model : bird. probs=  70.22145390510559\n",
      "Prediction of Augmented model #1 : bird. probs=  57.17986822128296\n",
      "Prediction of Augmented model #2 : airplane. probs=  50.489342212677\n",
      "Prediction of Augmented model #3 : bird. probs=  63.40059041976929\n"
     ]
    },
    {
     "data": {
      "image/png": "[encoded data removed]",
      "text/plain": [
       "<Figure size 432x288 with 1 Axes>"
      ]
     },
     "metadata": {
      "needs_background": "light"
     },
     "output_type": "display_data"
    }
   ],
   "source": [
    "###### Image selection\n",
    "choix = r\"./data/test/bird/0017.jpg\"\n",
    "\n",
    "prediction(choix, VAL_BASE_DIRECTORY, model, plus_tilt, plus_hflip, plus_vhflip_bright)"
   ]
  },
  {
   "cell_type": "code",
   "execution_count": 21,
   "metadata": {},
   "outputs": [
    {
     "name": "stdout",
     "output_type": "stream",
     "text": [
      "Ground truth : airplane\n",
      "Prediction of base model : airplane. probs=  83.99770259857178\n",
      "Prediction of Augmented model #1 : airplane. probs=  92.7056610584259\n",
      "Prediction of Augmented model #2 : airplane. probs=  93.35193037986755\n",
      "Prediction of Augmented model #3 : airplane. probs=  69.56873536109924\n"
     ]
    },
    {
     "data": {
      "image/png": "[encoded data removed]",
      "text/plain": [
       "<Figure size 432x288 with 1 Axes>"
      ]
     },
     "metadata": {
      "needs_background": "light"
     },
     "output_type": "display_data"
    }
   ],
   "source": [
    "###### Image selection\n",
    "choix = r\"./data/test/airplane/0007.jpg\"\n",
    "\n",
    "prediction(choix, VAL_BASE_DIRECTORY, model, plus_tilt, plus_hflip, plus_vhflip_bright)"
   ]
  },
  {
   "cell_type": "markdown",
   "metadata": {},
   "source": [
    "# Conclusion\n",
    "\n",
    "As we went through the different phases of data augmentation, we noticed an improvement of the loss. At the start, we could clearly see that the model was overfitting.\n",
    "\n",
    "Combining all the previously used data augmentation techniques resulted in a model where validation loss is almost the exact same as the training loss.\n",
    "\n",
    "When testing we see that in some cases the model without data augmentation is better.\n"
   ]
  },
  {
   "cell_type": "code",
   "execution_count": null,
   "metadata": {},
   "outputs": [],
   "source": []
  },
  {
   "cell_type": "code",
   "execution_count": null,
   "metadata": {},
   "outputs": [],
   "source": []
  },
  {
   "cell_type": "code",
   "execution_count": null,
   "metadata": {},
   "outputs": [],
   "source": []
  }
 ],
 "metadata": {
  "interpreter": {
   "hash": "21018cda348434c781f8be1101698e50d4bc452dbd3ed7e1ed7f61bde854e7cd"
  },
  "kernelspec": {
   "display_name": "Python 3",
   "language": "python",
   "name": "python3"
  },
  "language_info": {
   "codemirror_mode": {
    "name": "ipython",
    "version": 3
   },
   "file_extension": ".py",
   "mimetype": "text/x-python",
   "name": "python",
   "nbconvert_exporter": "python",
   "pygments_lexer": "ipython3",
   "version": "3.8.10"
  }
 },
 "nbformat": 4,
 "nbformat_minor": 2
}
